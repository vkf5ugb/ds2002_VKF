{
 "cells": [
  {
   "cell_type": "markdown",
   "id": "22c9039b-5163-49d1-a8f6-fcdc3fda8082",
   "metadata": {},
   "source": [
    "# DS 2002: Project 1\n",
    "## Victoria Feist\n",
    "## Adoptable Dogs in the US"
   ]
  },
  {
   "cell_type": "markdown",
   "id": "e1172f84-1d23-4790-ae67-1563398ceaa1",
   "metadata": {},
   "source": [
    "### Load in all necessary packages"
   ]
  },
  {
   "cell_type": "code",
   "execution_count": 94,
   "id": "f1a0c72c-16e2-4773-a55d-84c34ea18295",
   "metadata": {},
   "outputs": [],
   "source": [
    "import os\n",
    "import pandas as pd\n",
    "import sqlite3\n",
    "import numpy as np\n",
    "import json"
   ]
  },
  {
   "cell_type": "markdown",
   "id": "afef82de-a7d0-4d67-83de-a50fe2677a49",
   "metadata": {},
   "source": [
    "### Download dataframe. \n",
    "Link: https://www.kaggle.com/datasets/thedevastator/adoptable-dogs-in-the-us?resource=download"
   ]
  },
  {
   "cell_type": "markdown",
   "id": "5b20ea4c-4c17-4266-b796-88470e29832f",
   "metadata": {},
   "source": [
    "### Run the code below to create 3 new functions. "
   ]
  },
  {
   "cell_type": "code",
   "execution_count": 95,
   "id": "f04aa8af-4dd6-4ab8-aa26-c94ea40fec85",
   "metadata": {},
   "outputs": [],
   "source": [
    "## If desired format is CSV:\n",
    "def csv(name_csv, new_name):\n",
    "    try:\n",
    "        df = pd.read_csv(name_csv) #Reading in the downloaded csv.\n",
    "    except:\n",
    "      #\n",
    "        return 'No such file exists. Ensure your working directory/file name is correct.' # if unsuccessful at this point, this error message comes up.\n",
    "    try:\n",
    "        df[\"contact_citystate\"] = df['contact_city'].astype(str) +\", \"+ df[\"contact_state\"].astype(str) #change dataframe columns - combines dog's city and state columns into one and drops the now-redundant columns\n",
    "        dfa = df.drop(df.columns[[28, 29]],axis = 1) \n",
    "    except:\n",
    "        #User is notified if edits were not achieved.\n",
    "        return 'Dataframe editing unsuccessful.'\n",
    "    try:\n",
    "            data = dfa # Keep format as csv.\n",
    "            data.to_csv(new_name)#Save csv to local working directory.\n",
    "            #returns successful message\n",
    "            return \"Modified csv file successfully saved to directory.\", data.head()\n",
    "    except:\n",
    "            #User is notified if file was not saved successfully.\n",
    "            return 'Unable to save csv file successfully.'\n"
   ]
  },
  {
   "cell_type": "code",
   "execution_count": 101,
   "id": "8a222e1e-0354-47f7-a571-245149f2492a",
   "metadata": {},
   "outputs": [],
   "source": [
    "## If desired format is JSON:\n",
    "def json(name_csv, new_name):\n",
    "    try:\n",
    "        df = pd.read_csv(name_csv) #Reading in the downloaded csv.\n",
    "    except:\n",
    "      #User is notified if a problem arises at this point.\n",
    "        return 'No such file exists. Ensure your working directory/file name is correct.'\n",
    "    try:\n",
    "        df[\"contact_citystate\"] = df['contact_city'].astype(str) +\", \"+ df[\"contact_state\"].astype(str) #change dataframe columns - combines dog's city and state columns into one and drops the now-redundant columns\n",
    "        dfa = df.drop(df.columns[[28, 29]],axis = 1) \n",
    "    except:\n",
    "        #User is notified if edits were not achieved.\n",
    "        return 'Dataframe editing unsuccessful.'\n",
    "    try:\n",
    "            data = dfa.to_json(new_name)#Convert csv file to json.\n",
    "            #If dataframe was successfully modified, returns success message.\n",
    "            return \"json file successfully saved to directory.\"\n",
    "    except:\n",
    "            #if an error occurs here, the user is informed the file was not converted\n",
    "            return 'Unable to modify csv and convert to json file.'"
   ]
  },
  {
   "cell_type": "code",
   "execution_count": 103,
   "id": "2ba689cd-9840-4848-a0f5-e62583f53205",
   "metadata": {},
   "outputs": [],
   "source": [
    "# If desired format is SQL db:\n",
    "def db(name_csv, new_name):\n",
    "    try:\n",
    "        df = pd.read_csv(name_csv) #Reading in the downloaded csv.\n",
    "    except:\n",
    "      #User is notified if csv cannot be read in.\n",
    "        return 'No such file exists. Ensure your working directory/file name is correct.'\n",
    "    try:\n",
    "        df[\"contact_citystate\"] = df['contact_city'].astype(str) +\", \"+ df[\"contact_state\"].astype(str) #change dataframe columns - combines dog's city and state columns into one and drops the now-redundant columns\n",
    "        dfa = df.drop(df.columns[[28, 29]],axis = 1) \n",
    "    except:\n",
    "        #User is notified if edits were not achieved.\n",
    "        return 'Dataframe editing unsuccessful.'\n",
    "    try:\n",
    "            connect = sqlite3.connect(\"Dogs Available for Adoption.db\") #Create connection to database in sqlite\n",
    "            curs = connect.cursor() #Create the cursor\n",
    "            dfa.to_sql(name='Dogs', con=connect, if_exists = 'replace') #Export the dataframe to a SQL table.\n",
    "            curs.execute(\"\"\" SELECT * FROM Dogs;\"\"\") #Fetch the table so it displays here.\n",
    "            new_table = curs.fetchall() #Fetch the table.\n",
    "            #If modification and conversion is successful:\n",
    "            return 'SQLite database table successfully created', new_table \n",
    "    except:\n",
    "            #if an error occurs, the user is informed the csv was not converted.\n",
    "            return 'Unable to modifiy csv and convert to SQL database table'"
   ]
  },
  {
   "cell_type": "markdown",
   "id": "e9dcbe99-25bd-4672-862e-efab18ec3382",
   "metadata": {
    "tags": []
   },
   "source": [
    "# User Instructions\n",
    "\n",
    "### Prior to use of any functions:\n",
    "1. Load in necessary packages.\n",
    "2. Download dataset and save to local directory.\n",
    "    Link for dataset: https://www.kaggle.com/datasets/thedevastator/adoptable-dogs-in-the-us?resource=download\n",
    "3. Choose a desired format: csv, json, SQL db\n",
    "\n",
    "### Function description and directions:\n",
    "1. Choose a function based on your desired format.\n",
    "\n",
    "    csv() - use this function to modify original csv and keep it in csv format.\n",
    "\n",
    "    json() - use this function to modify original csv and convert it to json format.\n",
    "\n",
    "    db() - use this function to modify original csv and convert it to an SQL database.\n",
    "\n",
    "2. Type your desired function in the code block below. Within the parentheses, enter \"original csv name\", \"your new name\".\n",
    "    Example: csv(\"/Users/victoriafeist/Desktop/DS2002/allDogDescriptions.csv\", \"New_Dog_CSV\")\n",
    "\n",
    "3. Run the code block."
   ]
  },
  {
   "cell_type": "code",
   "execution_count": null,
   "id": "d87bc018-10b2-46f8-925b-2c826df82f04",
   "metadata": {},
   "outputs": [],
   "source": []
  }
 ],
 "metadata": {
  "kernelspec": {
   "display_name": "Python 3 (ipykernel)",
   "language": "python",
   "name": "python3"
  },
  "language_info": {
   "codemirror_mode": {
    "name": "ipython",
    "version": 3
   },
   "file_extension": ".py",
   "mimetype": "text/x-python",
   "name": "python",
   "nbconvert_exporter": "python",
   "pygments_lexer": "ipython3",
   "version": "3.9.7"
  }
 },
 "nbformat": 4,
 "nbformat_minor": 5
}
