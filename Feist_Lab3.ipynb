{
 "cells": [
  {
   "cell_type": "markdown",
   "id": "969980f2-79cd-4c8d-bd79-bff08a02a491",
   "metadata": {},
   "source": [
    "## DS 2002 Lab 3: SQL Lite\n",
    "### Victoria Feist"
   ]
  },
  {
   "cell_type": "code",
   "execution_count": 2,
   "id": "125acf1c-8be2-454f-b235-eb49d2b38df3",
   "metadata": {},
   "outputs": [],
   "source": [
    "import sqlite3"
   ]
  },
  {
   "cell_type": "code",
   "execution_count": 3,
   "id": "64380aee-01a2-44a9-8689-acd6c79dc3b0",
   "metadata": {},
   "outputs": [],
   "source": [
    "conn = sqlite3.connect('orders.db')"
   ]
  },
  {
   "cell_type": "code",
   "execution_count": 6,
   "id": "d0918eb8-8989-4e8c-be1d-1c1f638b4739",
   "metadata": {},
   "outputs": [
    {
     "ename": "SyntaxError",
     "evalue": "invalid syntax (2935928987.py, line 1)",
     "output_type": "error",
     "traceback": [
      "\u001b[0;36m  File \u001b[0;32m\"/var/folders/tj/df0p5dsn7h1d1w4lwh_yf9ww0000gn/T/ipykernel_27915/2935928987.py\"\u001b[0;36m, line \u001b[0;32m1\u001b[0m\n\u001b[0;31m    conn = sqlite3.connect(:memory:)\u001b[0m\n\u001b[0m                           ^\u001b[0m\n\u001b[0;31mSyntaxError\u001b[0m\u001b[0;31m:\u001b[0m invalid syntax\n"
     ]
    }
   ],
   "source": [
    "conn = sqlite3.connect(:memory:) ## invalid syntax?"
   ]
  },
  {
   "cell_type": "code",
   "execution_count": 7,
   "id": "a912d540-7e09-4e15-8d04-dae066781012",
   "metadata": {},
   "outputs": [],
   "source": [
    "cur = conn.cursor()"
   ]
  },
  {
   "cell_type": "code",
   "execution_count": 9,
   "id": "fa2a5d27-5862-43f6-ba52-51b2010518d2",
   "metadata": {},
   "outputs": [
    {
     "ename": "OperationalError",
     "evalue": "near \"Feist_Lab\": syntax error",
     "output_type": "error",
     "traceback": [
      "\u001b[0;31m---------------------------------------------------------------------------\u001b[0m",
      "\u001b[0;31mOperationalError\u001b[0m                          Traceback (most recent call last)",
      "\u001b[0;32m/var/folders/tj/df0p5dsn7h1d1w4lwh_yf9ww0000gn/T/ipykernel_27915/3652855986.py\u001b[0m in \u001b[0;36m<module>\u001b[0;34m\u001b[0m\n\u001b[0;32m----> 1\u001b[0;31m \u001b[0mcur\u001b[0m\u001b[0;34m.\u001b[0m\u001b[0mexecute\u001b[0m\u001b[0;34m(\u001b[0m\u001b[0;34m\"Feist_Lab 3;\"\u001b[0m\u001b[0;34m)\u001b[0m\u001b[0;34m\u001b[0m\u001b[0;34m\u001b[0m\u001b[0m\n\u001b[0m",
      "\u001b[0;31mOperationalError\u001b[0m: near \"Feist_Lab\": syntax error"
     ]
    }
   ],
   "source": [
    "## cur.execute(\"relevant sql query\")"
   ]
  },
  {
   "cell_type": "code",
   "execution_count": 10,
   "id": "7fab28f5-3468-4872-afb0-0cd5076522db",
   "metadata": {},
   "outputs": [],
   "source": [
    "cur.execute(\"\"\"CREATE TABLE IF NOT EXISTS users(\n",
    "   userid INT PRIMARY KEY,\n",
    "   fname TEXT,\n",
    "   lname TEXT,\n",
    "   gender TEXT);\n",
    "\"\"\")\n",
    "conn.commit()"
   ]
  },
  {
   "cell_type": "code",
   "execution_count": 11,
   "id": "ad68b581-ffd2-4622-83de-216b487221fa",
   "metadata": {},
   "outputs": [],
   "source": [
    "cur.execute(\"\"\"CREATE TABLE IF NOT EXISTS orders(\n",
    "   orderid INT PRIMARY KEY,\n",
    "   date TEXT,\n",
    "   userid TEXT,\n",
    "   total TEXT);\n",
    "\"\"\")\n",
    "conn.commit()"
   ]
  },
  {
   "cell_type": "code",
   "execution_count": 13,
   "id": "49fa6c35-667a-41a1-8fd7-fafb3e791d4f",
   "metadata": {},
   "outputs": [],
   "source": [
    "cur.execute(\"\"\"INSERT INTO users(userid, fname, lname, gender) \n",
    "   VALUES('00001', 'Nik', 'Piepenbreier', 'male');\"\"\")\n",
    "conn.commit()"
   ]
  },
  {
   "cell_type": "code",
   "execution_count": 14,
   "id": "23b394dd-b479-4fb7-b70a-ad132a9b0fae",
   "metadata": {},
   "outputs": [],
   "source": [
    "user = ('00002', 'Lois', 'Lane', 'Female')"
   ]
  },
  {
   "cell_type": "code",
   "execution_count": 15,
   "id": "4f2b2c17-95d2-45db-87f2-d46c910ad163",
   "metadata": {},
   "outputs": [],
   "source": [
    "cur.execute(\"INSERT INTO users VALUES(?, ?, ?, ?);\", user)\n",
    "conn.commit()"
   ]
  },
  {
   "cell_type": "code",
   "execution_count": 16,
   "id": "b639e638-294a-473a-a7b7-7b5c7244824d",
   "metadata": {},
   "outputs": [],
   "source": [
    "more_users = [('00003', 'Peter', 'Parker', 'Male'), ('00004', 'Bruce', 'Wayne', 'male')]"
   ]
  },
  {
   "cell_type": "code",
   "execution_count": 17,
   "id": "21e7dc92-d9df-438a-88ba-dd21182bc373",
   "metadata": {},
   "outputs": [],
   "source": [
    "cur.executemany(\"INSERT INTO users VALUES(?, ?, ?, ?);\", more_users)\n",
    "conn.commit()"
   ]
  },
  {
   "cell_type": "code",
   "execution_count": 18,
   "id": "5513d1e9-3922-461e-9d2b-e963890cad0d",
   "metadata": {},
   "outputs": [],
   "source": [
    "customers = [('00005', 'Stephanie', 'Stewart', 'female'), ('00006', 'Sincere', 'Sherman', 'female'), ('00007', 'Sidney', 'Horn', 'male'), ('00008', 'Litzy', 'Yates', 'female'), ('00009', 'Jaxon', 'Mills', 'male'), ('00010', 'Paul', 'Richard', 'male'), ('00011', 'Kamari', 'Holden', 'female'), ('00012', 'Gaige', 'Summers', 'female'), ('00013', 'Andrea', 'Snow', 'female'), ('00014', 'Angelica', 'Barnes', 'female'), ('00015', 'Leah', 'Pitts', 'female'), ('00016', 'Dillan', 'Olsen', 'male'), ('00017', 'Joe', 'Walsh', 'male'), ('00018', 'Reagan', 'Cooper', 'male'), ('00019', 'Aubree', 'Hogan', 'female'), ('00020', 'Avery', 'Floyd', 'male'), ('00021', 'Elianna', 'Simmons', 'female'), ('00022', 'Rodney', 'Stout', 'male'), ('00023', 'Elaine', 'Mcintosh', 'female'), ('00024', 'Myla', 'Mckenzie', 'female'), ('00025', 'Alijah', 'Horn', 'female'), ('00026', 'Rohan', 'Peterson', 'male'), ('00027', 'Irene', 'Walters', 'female'), ('00028', 'Lilia', 'Sellers', 'female'), ('00029', 'Perla', 'Jefferson', 'female'), ('00030', 'Ashley', 'Klein', 'female')]\n",
    "orders = [('00001', '2020-01-01', '00025', '178'), ('00002', '2020-01-03', '00025', '39'), ('00003', '2020-01-07', '00016', '153'), ('00004', '2020-01-10', '00015', '110'), ('00005', '2020-01-11', '00024', '219'), ('00006', '2020-01-12', '00029', '37'), ('00007', '2020-01-14', '00028', '227'), ('00008', '2020-01-18', '00010', '232'), ('00009', '2020-01-22', '00016', '236'), ('00010', '2020-01-26', '00017', '116'), ('00011', '2020-01-28', '00028', '221'), ('00012', '2020-01-31', '00021', '238'), ('00013', '2020-02-02', '00015', '177'), ('00014', '2020-02-05', '00025', '76'), ('00015', '2020-02-08', '00022', '245'), ('00016', '2020-02-12', '00008', '180'), ('00017', '2020-02-14', '00020', '190'), ('00018', '2020-02-18', '00030', '166'), ('00019', '2020-02-22', '00002', '168'), ('00020', '2020-02-26', '00021', '174'), ('00021', '2020-02-29', '00017', '126'), ('00022', '2020-03-02', '00019', '211'), ('00023', '2020-03-05', '00030', '144'), ('00024', '2020-03-09', '00012', '112'), ('00025', '2020-03-10', '00006', '45'), ('00026', '2020-03-11', '00004', '200'), ('00027', '2020-03-14', '00015', '226'), ('00028', '2020-03-17', '00030', '189'), ('00029', '2020-03-20', '00004', '152'), ('00030', '2020-03-22', '00026', '239'), ('00031', '2020-03-23', '00012', '135'), ('00032', '2020-03-24', '00013', '211'), ('00033', '2020-03-27', '00030', '226'), ('00034', '2020-03-28', '00007', '173'), ('00035', '2020-03-30', '00010', '144'), ('00036', '2020-04-01', '00017', '185'), ('00037', '2020-04-03', '00009', '95'), ('00038', '2020-04-06', '00009', '138'), ('00039', '2020-04-10', '00025', '223'), ('00040', '2020-04-12', '00019', '118'), ('00041', '2020-04-15', '00024', '132'), ('00042', '2020-04-18', '00008', '238'), ('00043', '2020-04-21', '00003', '50'), ('00044', '2020-04-25', '00019', '98'), ('00045', '2020-04-26', '00017', '167'), ('00046', '2020-04-28', '00009', '215'), ('00047', '2020-05-01', '00014', '142'), ('00048', '2020-05-05', '00022', '173'), ('00049', '2020-05-06', '00015', '80'), ('00050', '2020-05-07', '00017', '37'), ('00051', '2020-05-08', '00002', '36'), ('00052', '2020-05-10', '00022', '65'), ('00053', '2020-05-14', '00019', '110'), ('00054', '2020-05-18', '00017', '36'), ('00055', '2020-05-21', '00008', '163'), ('00056', '2020-05-24', '00024', '91'), ('00057', '2020-05-26', '00028', '154'), ('00058', '2020-05-30', '00022', '130'), ('00059', '2020-05-31', '00017', '119'), ('00060', '2020-06-01', '00024', '137'), ('00061', '2020-06-03', '00017', '206'), ('00062', '2020-06-04', '00013', '100'), ('00063', '2020-06-05', '00021', '187'), ('00064', '2020-06-09', '00025', '170'), ('00065', '2020-06-11', '00011', '149'), ('00066', '2020-06-12', '00007', '195'), ('00067', '2020-06-14', '00015', '30'), ('00068', '2020-06-16', '00002', '246'), ('00069', '2020-06-20', '00028', '163'), ('00070', '2020-06-22', '00005', '184'), ('00071', '2020-06-23', '00022', '68'), ('00072', '2020-06-27', '00013', '92'), ('00073', '2020-06-30', '00022', '149'), ('00074', '2020-07-04', '00002', '65'), ('00075', '2020-07-05', '00017', '88'), ('00076', '2020-07-09', '00007', '156'), ('00077', '2020-07-13', '00010', '26'), ('00078', '2020-07-16', '00008', '55'), ('00079', '2020-07-20', '00019', '81'), ('00080', '2020-07-22', '00011', '78'), ('00081', '2020-07-23', '00026', '166'), ('00082', '2020-07-27', '00014', '65'), ('00083', '2020-07-30', '00021', '205'), ('00084', '2020-08-01', '00026', '140'), ('00085', '2020-08-05', '00006', '236'), ('00086', '2020-08-06', '00021', '208'), ('00087', '2020-08-07', '00021', '169'), ('00088', '2020-08-08', '00004', '157'), ('00089', '2020-08-11', '00017', '71'), ('00090', '2020-08-13', '00025', '89'), ('00091', '2020-08-16', '00014', '249'), ('00092', '2020-08-18', '00012', '59'), ('00093', '2020-08-19', '00013', '121'), ('00094', '2020-08-20', '00025', '179'), ('00095', '2020-08-22', '00017', '208'), ('00096', '2020-08-26', '00024', '217'), ('00097', '2020-08-28', '00004', '206'), ('00098', '2020-08-30', '00017', '114'), ('00099', '2020-08-31', '00017', '169'), ('00100', '2020-09-02', '00022', '226')]"
   ]
  },
  {
   "cell_type": "code",
   "execution_count": 19,
   "id": "7050dbad-2c9c-4fe2-9eb7-2a1c13f9e2be",
   "metadata": {},
   "outputs": [],
   "source": [
    "cur.executemany(\"INSERT INTO users VALUES(?, ?, ?, ?);\", customers)\n",
    "cur.executemany(\"INSERT INTO orders VALUES(?, ?, ?, ?);\", orders)\n",
    "conn.commit()"
   ]
  },
  {
   "cell_type": "code",
   "execution_count": 20,
   "id": "4c250194-b77f-4d83-9ce0-c568c1b57e29",
   "metadata": {},
   "outputs": [
    {
     "name": "stdout",
     "output_type": "stream",
     "text": [
      "(1, 'Nik', 'Piepenbreier', 'male')\n"
     ]
    }
   ],
   "source": [
    "cur.execute(\"SELECT * FROM users;\")\n",
    "one_result = cur.fetchone()\n",
    "print(one_result)"
   ]
  },
  {
   "cell_type": "code",
   "execution_count": 21,
   "id": "cdf9f30e-0c82-407d-8691-bf795c1d3d3c",
   "metadata": {},
   "outputs": [
    {
     "name": "stdout",
     "output_type": "stream",
     "text": [
      "[(1, 'Nik', 'Piepenbreier', 'male'), (2, 'Lois', 'Lane', 'Female'), (3, 'Peter', 'Parker', 'Male')]\n"
     ]
    }
   ],
   "source": [
    "cur.execute(\"SELECT * FROM users;\")\n",
    "three_results = cur.fetchmany(3)\n",
    "print(three_results)"
   ]
  },
  {
   "cell_type": "code",
   "execution_count": 22,
   "id": "5643c259-c3ed-4860-ae2d-5fb0057cdab8",
   "metadata": {},
   "outputs": [
    {
     "name": "stdout",
     "output_type": "stream",
     "text": [
      "[(1, 'Nik', 'Piepenbreier', 'male'), (2, 'Lois', 'Lane', 'Female'), (3, 'Peter', 'Parker', 'Male'), (4, 'Bruce', 'Wayne', 'male'), (5, 'Stephanie', 'Stewart', 'female'), (6, 'Sincere', 'Sherman', 'female'), (7, 'Sidney', 'Horn', 'male'), (8, 'Litzy', 'Yates', 'female'), (9, 'Jaxon', 'Mills', 'male'), (10, 'Paul', 'Richard', 'male'), (11, 'Kamari', 'Holden', 'female'), (12, 'Gaige', 'Summers', 'female'), (13, 'Andrea', 'Snow', 'female'), (14, 'Angelica', 'Barnes', 'female'), (15, 'Leah', 'Pitts', 'female'), (16, 'Dillan', 'Olsen', 'male'), (17, 'Joe', 'Walsh', 'male'), (18, 'Reagan', 'Cooper', 'male'), (19, 'Aubree', 'Hogan', 'female'), (20, 'Avery', 'Floyd', 'male'), (21, 'Elianna', 'Simmons', 'female'), (22, 'Rodney', 'Stout', 'male'), (23, 'Elaine', 'Mcintosh', 'female'), (24, 'Myla', 'Mckenzie', 'female'), (25, 'Alijah', 'Horn', 'female'), (26, 'Rohan', 'Peterson', 'male'), (27, 'Irene', 'Walters', 'female'), (28, 'Lilia', 'Sellers', 'female'), (29, 'Perla', 'Jefferson', 'female'), (30, 'Ashley', 'Klein', 'female')]\n"
     ]
    }
   ],
   "source": [
    "cur.execute(\"SELECT * FROM users;\")\n",
    "all_results = cur.fetchall()\n",
    "print(all_results)"
   ]
  },
  {
   "cell_type": "code",
   "execution_count": 23,
   "id": "7f4606de-3bee-4484-af17-60e8b4aceaf6",
   "metadata": {},
   "outputs": [],
   "source": [
    "cur.execute(\"DELETE FROM users WHERE lname='Parker';\")\n",
    "conn.commit()"
   ]
  },
  {
   "cell_type": "code",
   "execution_count": 24,
   "id": "ab50dc8d-cfb9-450d-8625-b37f8032ee72",
   "metadata": {},
   "outputs": [
    {
     "name": "stdout",
     "output_type": "stream",
     "text": [
      "[]\n"
     ]
    }
   ],
   "source": [
    "cur.execute(\"select * from users where lname='Parker'\")\n",
    "print(cur.fetchall())"
   ]
  },
  {
   "cell_type": "code",
   "execution_count": 25,
   "id": "09c6ebba-2ba3-4e98-9fde-5b0d3d8c272a",
   "metadata": {},
   "outputs": [
    {
     "name": "stdout",
     "output_type": "stream",
     "text": [
      "[(1, '2020-01-01', '00025', '178', 25, 'Alijah', 'Horn', 'female', 'Alijah', 'Horn'), (2, '2020-01-03', '00025', '39', 25, 'Alijah', 'Horn', 'female', 'Alijah', 'Horn'), (3, '2020-01-07', '00016', '153', 16, 'Dillan', 'Olsen', 'male', 'Dillan', 'Olsen'), (4, '2020-01-10', '00015', '110', 15, 'Leah', 'Pitts', 'female', 'Leah', 'Pitts'), (5, '2020-01-11', '00024', '219', 24, 'Myla', 'Mckenzie', 'female', 'Myla', 'Mckenzie'), (6, '2020-01-12', '00029', '37', 29, 'Perla', 'Jefferson', 'female', 'Perla', 'Jefferson'), (7, '2020-01-14', '00028', '227', 28, 'Lilia', 'Sellers', 'female', 'Lilia', 'Sellers'), (8, '2020-01-18', '00010', '232', 10, 'Paul', 'Richard', 'male', 'Paul', 'Richard'), (9, '2020-01-22', '00016', '236', 16, 'Dillan', 'Olsen', 'male', 'Dillan', 'Olsen'), (10, '2020-01-26', '00017', '116', 17, 'Joe', 'Walsh', 'male', 'Joe', 'Walsh'), (11, '2020-01-28', '00028', '221', 28, 'Lilia', 'Sellers', 'female', 'Lilia', 'Sellers'), (12, '2020-01-31', '00021', '238', 21, 'Elianna', 'Simmons', 'female', 'Elianna', 'Simmons'), (13, '2020-02-02', '00015', '177', 15, 'Leah', 'Pitts', 'female', 'Leah', 'Pitts'), (14, '2020-02-05', '00025', '76', 25, 'Alijah', 'Horn', 'female', 'Alijah', 'Horn'), (15, '2020-02-08', '00022', '245', 22, 'Rodney', 'Stout', 'male', 'Rodney', 'Stout'), (16, '2020-02-12', '00008', '180', 8, 'Litzy', 'Yates', 'female', 'Litzy', 'Yates'), (17, '2020-02-14', '00020', '190', 20, 'Avery', 'Floyd', 'male', 'Avery', 'Floyd'), (18, '2020-02-18', '00030', '166', 30, 'Ashley', 'Klein', 'female', 'Ashley', 'Klein'), (19, '2020-02-22', '00002', '168', 2, 'Lois', 'Lane', 'Female', 'Lois', 'Lane'), (20, '2020-02-26', '00021', '174', 21, 'Elianna', 'Simmons', 'female', 'Elianna', 'Simmons'), (21, '2020-02-29', '00017', '126', 17, 'Joe', 'Walsh', 'male', 'Joe', 'Walsh'), (22, '2020-03-02', '00019', '211', 19, 'Aubree', 'Hogan', 'female', 'Aubree', 'Hogan'), (23, '2020-03-05', '00030', '144', 30, 'Ashley', 'Klein', 'female', 'Ashley', 'Klein'), (24, '2020-03-09', '00012', '112', 12, 'Gaige', 'Summers', 'female', 'Gaige', 'Summers'), (25, '2020-03-10', '00006', '45', 6, 'Sincere', 'Sherman', 'female', 'Sincere', 'Sherman'), (26, '2020-03-11', '00004', '200', 4, 'Bruce', 'Wayne', 'male', 'Bruce', 'Wayne'), (27, '2020-03-14', '00015', '226', 15, 'Leah', 'Pitts', 'female', 'Leah', 'Pitts'), (28, '2020-03-17', '00030', '189', 30, 'Ashley', 'Klein', 'female', 'Ashley', 'Klein'), (29, '2020-03-20', '00004', '152', 4, 'Bruce', 'Wayne', 'male', 'Bruce', 'Wayne'), (30, '2020-03-22', '00026', '239', 26, 'Rohan', 'Peterson', 'male', 'Rohan', 'Peterson'), (31, '2020-03-23', '00012', '135', 12, 'Gaige', 'Summers', 'female', 'Gaige', 'Summers'), (32, '2020-03-24', '00013', '211', 13, 'Andrea', 'Snow', 'female', 'Andrea', 'Snow'), (33, '2020-03-27', '00030', '226', 30, 'Ashley', 'Klein', 'female', 'Ashley', 'Klein'), (34, '2020-03-28', '00007', '173', 7, 'Sidney', 'Horn', 'male', 'Sidney', 'Horn'), (35, '2020-03-30', '00010', '144', 10, 'Paul', 'Richard', 'male', 'Paul', 'Richard'), (36, '2020-04-01', '00017', '185', 17, 'Joe', 'Walsh', 'male', 'Joe', 'Walsh'), (37, '2020-04-03', '00009', '95', 9, 'Jaxon', 'Mills', 'male', 'Jaxon', 'Mills'), (38, '2020-04-06', '00009', '138', 9, 'Jaxon', 'Mills', 'male', 'Jaxon', 'Mills'), (39, '2020-04-10', '00025', '223', 25, 'Alijah', 'Horn', 'female', 'Alijah', 'Horn'), (40, '2020-04-12', '00019', '118', 19, 'Aubree', 'Hogan', 'female', 'Aubree', 'Hogan'), (41, '2020-04-15', '00024', '132', 24, 'Myla', 'Mckenzie', 'female', 'Myla', 'Mckenzie'), (42, '2020-04-18', '00008', '238', 8, 'Litzy', 'Yates', 'female', 'Litzy', 'Yates'), (43, '2020-04-21', '00003', '50', None, None, None, None, None, None), (44, '2020-04-25', '00019', '98', 19, 'Aubree', 'Hogan', 'female', 'Aubree', 'Hogan'), (45, '2020-04-26', '00017', '167', 17, 'Joe', 'Walsh', 'male', 'Joe', 'Walsh'), (46, '2020-04-28', '00009', '215', 9, 'Jaxon', 'Mills', 'male', 'Jaxon', 'Mills'), (47, '2020-05-01', '00014', '142', 14, 'Angelica', 'Barnes', 'female', 'Angelica', 'Barnes'), (48, '2020-05-05', '00022', '173', 22, 'Rodney', 'Stout', 'male', 'Rodney', 'Stout'), (49, '2020-05-06', '00015', '80', 15, 'Leah', 'Pitts', 'female', 'Leah', 'Pitts'), (50, '2020-05-07', '00017', '37', 17, 'Joe', 'Walsh', 'male', 'Joe', 'Walsh'), (51, '2020-05-08', '00002', '36', 2, 'Lois', 'Lane', 'Female', 'Lois', 'Lane'), (52, '2020-05-10', '00022', '65', 22, 'Rodney', 'Stout', 'male', 'Rodney', 'Stout'), (53, '2020-05-14', '00019', '110', 19, 'Aubree', 'Hogan', 'female', 'Aubree', 'Hogan'), (54, '2020-05-18', '00017', '36', 17, 'Joe', 'Walsh', 'male', 'Joe', 'Walsh'), (55, '2020-05-21', '00008', '163', 8, 'Litzy', 'Yates', 'female', 'Litzy', 'Yates'), (56, '2020-05-24', '00024', '91', 24, 'Myla', 'Mckenzie', 'female', 'Myla', 'Mckenzie'), (57, '2020-05-26', '00028', '154', 28, 'Lilia', 'Sellers', 'female', 'Lilia', 'Sellers'), (58, '2020-05-30', '00022', '130', 22, 'Rodney', 'Stout', 'male', 'Rodney', 'Stout'), (59, '2020-05-31', '00017', '119', 17, 'Joe', 'Walsh', 'male', 'Joe', 'Walsh'), (60, '2020-06-01', '00024', '137', 24, 'Myla', 'Mckenzie', 'female', 'Myla', 'Mckenzie'), (61, '2020-06-03', '00017', '206', 17, 'Joe', 'Walsh', 'male', 'Joe', 'Walsh'), (62, '2020-06-04', '00013', '100', 13, 'Andrea', 'Snow', 'female', 'Andrea', 'Snow'), (63, '2020-06-05', '00021', '187', 21, 'Elianna', 'Simmons', 'female', 'Elianna', 'Simmons'), (64, '2020-06-09', '00025', '170', 25, 'Alijah', 'Horn', 'female', 'Alijah', 'Horn'), (65, '2020-06-11', '00011', '149', 11, 'Kamari', 'Holden', 'female', 'Kamari', 'Holden'), (66, '2020-06-12', '00007', '195', 7, 'Sidney', 'Horn', 'male', 'Sidney', 'Horn'), (67, '2020-06-14', '00015', '30', 15, 'Leah', 'Pitts', 'female', 'Leah', 'Pitts'), (68, '2020-06-16', '00002', '246', 2, 'Lois', 'Lane', 'Female', 'Lois', 'Lane'), (69, '2020-06-20', '00028', '163', 28, 'Lilia', 'Sellers', 'female', 'Lilia', 'Sellers'), (70, '2020-06-22', '00005', '184', 5, 'Stephanie', 'Stewart', 'female', 'Stephanie', 'Stewart'), (71, '2020-06-23', '00022', '68', 22, 'Rodney', 'Stout', 'male', 'Rodney', 'Stout'), (72, '2020-06-27', '00013', '92', 13, 'Andrea', 'Snow', 'female', 'Andrea', 'Snow'), (73, '2020-06-30', '00022', '149', 22, 'Rodney', 'Stout', 'male', 'Rodney', 'Stout'), (74, '2020-07-04', '00002', '65', 2, 'Lois', 'Lane', 'Female', 'Lois', 'Lane'), (75, '2020-07-05', '00017', '88', 17, 'Joe', 'Walsh', 'male', 'Joe', 'Walsh'), (76, '2020-07-09', '00007', '156', 7, 'Sidney', 'Horn', 'male', 'Sidney', 'Horn'), (77, '2020-07-13', '00010', '26', 10, 'Paul', 'Richard', 'male', 'Paul', 'Richard'), (78, '2020-07-16', '00008', '55', 8, 'Litzy', 'Yates', 'female', 'Litzy', 'Yates'), (79, '2020-07-20', '00019', '81', 19, 'Aubree', 'Hogan', 'female', 'Aubree', 'Hogan'), (80, '2020-07-22', '00011', '78', 11, 'Kamari', 'Holden', 'female', 'Kamari', 'Holden'), (81, '2020-07-23', '00026', '166', 26, 'Rohan', 'Peterson', 'male', 'Rohan', 'Peterson'), (82, '2020-07-27', '00014', '65', 14, 'Angelica', 'Barnes', 'female', 'Angelica', 'Barnes'), (83, '2020-07-30', '00021', '205', 21, 'Elianna', 'Simmons', 'female', 'Elianna', 'Simmons'), (84, '2020-08-01', '00026', '140', 26, 'Rohan', 'Peterson', 'male', 'Rohan', 'Peterson'), (85, '2020-08-05', '00006', '236', 6, 'Sincere', 'Sherman', 'female', 'Sincere', 'Sherman'), (86, '2020-08-06', '00021', '208', 21, 'Elianna', 'Simmons', 'female', 'Elianna', 'Simmons'), (87, '2020-08-07', '00021', '169', 21, 'Elianna', 'Simmons', 'female', 'Elianna', 'Simmons'), (88, '2020-08-08', '00004', '157', 4, 'Bruce', 'Wayne', 'male', 'Bruce', 'Wayne'), (89, '2020-08-11', '00017', '71', 17, 'Joe', 'Walsh', 'male', 'Joe', 'Walsh'), (90, '2020-08-13', '00025', '89', 25, 'Alijah', 'Horn', 'female', 'Alijah', 'Horn'), (91, '2020-08-16', '00014', '249', 14, 'Angelica', 'Barnes', 'female', 'Angelica', 'Barnes'), (92, '2020-08-18', '00012', '59', 12, 'Gaige', 'Summers', 'female', 'Gaige', 'Summers'), (93, '2020-08-19', '00013', '121', 13, 'Andrea', 'Snow', 'female', 'Andrea', 'Snow'), (94, '2020-08-20', '00025', '179', 25, 'Alijah', 'Horn', 'female', 'Alijah', 'Horn'), (95, '2020-08-22', '00017', '208', 17, 'Joe', 'Walsh', 'male', 'Joe', 'Walsh'), (96, '2020-08-26', '00024', '217', 24, 'Myla', 'Mckenzie', 'female', 'Myla', 'Mckenzie'), (97, '2020-08-28', '00004', '206', 4, 'Bruce', 'Wayne', 'male', 'Bruce', 'Wayne'), (98, '2020-08-30', '00017', '114', 17, 'Joe', 'Walsh', 'male', 'Joe', 'Walsh'), (99, '2020-08-31', '00017', '169', 17, 'Joe', 'Walsh', 'male', 'Joe', 'Walsh'), (100, '2020-09-02', '00022', '226', 22, 'Rodney', 'Stout', 'male', 'Rodney', 'Stout')]\n"
     ]
    }
   ],
   "source": [
    "cur.execute(\"\"\"SELECT *, users.fname, users.lname FROM orders\n",
    "    LEFT JOIN users ON users.userid=orders.userid;\"\"\")\n",
    "print(cur.fetchall())"
   ]
  },
  {
   "cell_type": "code",
   "execution_count": null,
   "id": "73fdca0a-22e7-42cd-aa05-13a325312513",
   "metadata": {},
   "outputs": [],
   "source": [
    "## Link to repo: https://github.com/vkf5ugb/ds2002_VKF"
   ]
  }
 ],
 "metadata": {
  "kernelspec": {
   "display_name": "Python 3 (ipykernel)",
   "language": "python",
   "name": "python3"
  },
  "language_info": {
   "codemirror_mode": {
    "name": "ipython",
    "version": 3
   },
   "file_extension": ".py",
   "mimetype": "text/x-python",
   "name": "python",
   "nbconvert_exporter": "python",
   "pygments_lexer": "ipython3",
   "version": "3.9.7"
  }
 },
 "nbformat": 4,
 "nbformat_minor": 5
}
