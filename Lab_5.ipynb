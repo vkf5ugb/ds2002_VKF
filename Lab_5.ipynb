{
 "cells": [
  {
   "cell_type": "markdown",
   "id": "9387a92e-0a6a-49b8-ae0c-8e8dc6e8e48c",
   "metadata": {},
   "source": [
    "# Lab 5: Mongo and Python with Unbound Data\n",
    "#### Harrison Listen, Adam Cook, Victoria Feist"
   ]
  },
  {
   "cell_type": "code",
   "execution_count": 6,
   "id": "91eb1ad0",
   "metadata": {},
   "outputs": [],
   "source": [
    "from bs4 import BeautifulSoup\n",
    "import requests\n",
    "import pgeocode\n",
    "import pandas as pd\n",
    "import pymongo"
   ]
  },
  {
   "cell_type": "code",
   "execution_count": 7,
   "id": "ac8019d1-54a5-4bda-94b4-263c04d93899",
   "metadata": {},
   "outputs": [],
   "source": [
    "host_name = \"localhost\"\n",
    "port = \"27017\"\n",
    "conn_str = {f\"mongodb://{host_name}:{port}/\"}\n",
    "client = pymongo.MongoClient(conn_str)"
   ]
  },
  {
   "cell_type": "markdown",
   "id": "0090a68d-17a3-4825-abff-6e9dc22e9af0",
   "metadata": {},
   "source": [
    "### User Instructions\n",
    "- run the block defining the function\n",
    "- run the function, then enter a US zip code into the input to receive the current and 7 day weather forecasts, as well as insert these forecasts into a local Mongo database named Weather"
   ]
  },
  {
   "cell_type": "code",
   "execution_count": 9,
   "id": "03519c8d-36ee-42fd-ba66-7d59cc096ebd",
   "metadata": {},
   "outputs": [],
   "source": [
    "def weather():\n",
    "    user_zip = input(\"Enter a zip code to retrieve its weather forecast: \")\n",
    "    us = pgeocode.Nominatim('us')\n",
    "    lat = str(us.query_postal_code(str(user_zip)).latitude)\n",
    "    long = str(us.query_postal_code(str(user_zip)).longitude)\n",
    "    page = requests.get(\"https://forecast.weather.gov/MapClick.php?lat=\"+lat+'&lon='+long+\"#.Y2wvVOzMI6E\")\n",
    "    soup = BeautifulSoup(page.content, \"html.parser\")\n",
    "    seven_day = soup.find(id = \"seven-day-forecast\")\n",
    "    period_tags = seven_day.select('.tombstone-container .period-name')\n",
    "    periods = [pt.get_text() for pt in period_tags]\n",
    "    short_descs = [sd.get_text() for sd in seven_day.select('.tombstone-container .short-desc')]\n",
    "    temps = [t.get_text() for t in seven_day.select('.tombstone-container .temp')]\n",
    "    descs = [d[\"title\"] for d in seven_day.select('.tombstone-container img')]\n",
    "    weather = pd.DataFrame({\n",
    "        \"Period\": periods,\n",
    "        \"Short Description\": short_descs,\n",
    "        \"Temp\":temps,\n",
    "        \"Description\":descs\n",
    "    })\n",
    "    current = soup.find('table')\n",
    "    conditions = [c.get_text() for c in current.find_all('td')]\n",
    "    current_conditions = pd.DataFrame({\n",
    "            \"Condition\": conditions[::2],\n",
    "            \"Current Value\": conditions[1::2]\n",
    "    })\n",
    "    current_conditions_dict = current_conditions.to_dict(orient = 'list')#turning the dataframes into dicts so they can go into Mongo\n",
    "    weather_dict = weather.to_dict(orient = 'list')\n",
    "    db_name = \"Weather\"\n",
    "    db = client[db_name]\n",
    "    sevenday=db.sevenday\n",
    "    sevenday.insert_one(weather_dict)\n",
    "    currently = db.currently\n",
    "    currently.insert_one(current_conditions_dict)\n",
    "    return weather, current_conditions, \"Collections inserted into Mongo database :\", db.list_collection_names()\n",
    "    \n",
    "\n"
   ]
  },
  {
   "cell_type": "code",
   "execution_count": null,
   "id": "9c57a513-2b17-4790-8db8-920a015f602d",
   "metadata": {},
   "outputs": [],
   "source": [
    "weather()"
   ]
  },
  {
   "cell_type": "code",
   "execution_count": null,
   "id": "c8d3919e-4f9b-4f26-ac69-65fb7d30fa18",
   "metadata": {},
   "outputs": [],
   "source": []
  }
 ],
 "metadata": {
  "kernelspec": {
   "display_name": "Python 3 (ipykernel)",
   "language": "python",
   "name": "python3"
  },
  "language_info": {
   "codemirror_mode": {
    "name": "ipython",
    "version": 3
   },
   "file_extension": ".py",
   "mimetype": "text/x-python",
   "name": "python",
   "nbconvert_exporter": "python",
   "pygments_lexer": "ipython3",
   "version": "3.9.7"
  }
 },
 "nbformat": 4,
 "nbformat_minor": 5
}
